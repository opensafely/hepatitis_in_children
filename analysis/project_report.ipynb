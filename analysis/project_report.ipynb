{
 "cells": [
  {
   "cell_type": "code",
   "execution_count": null,
   "metadata": {},
   "outputs": [],
   "source": [
    "from IPython.display import Image"
   ]
  },
  {
   "cell_type": "markdown",
   "metadata": {},
   "source": [
    "# Increase in hepatitis cases of unknown aetiology in children: a rapid OpenSAFELY analysis to support the national incident response\n",
    "\n",
    "## Background\n",
    "\n",
    "In April 2022, the World Health Organisation was notified of 10 cases of severe acute hepatitis of unknown aetiology in children aged under 10 in Scotland. Following further investigations, as of 8 April, 74 cases were identified across the United Kingdom since January 2022 [(1)](#ref1). Possible causes included COVID-19 and adenovirus; it was thought that changes in patterns of circulating virus due to COVID-19 pandemic regulations could have also contributed to this outbreak [(1)](#ref1). In response, the UK Health Security Agency (UKHSA) initiated a national incident and alerted the public to be on the lookout for signs and symptoms in children [(2)](#ref2).\n",
    "\n",
    "OpenSAFELY is a secure health analytics platform that allows near real-time analysis of pseudonymised primary care patient records in England. We have previously shown that the OpenSAFELY platform can be used for rapid audit and feedback for national health incidents [(3)](#ref3). To support the incident team's investigation, we were asked to use OpenSAFELY to provide contextual information on children presenting in general practice for symptoms related to hepatitis. This included any changes in the recording of gastrointestinal (GI) illness or liver functions tests that may be ordered in the diagnosis of hepatitis.\n",
    "\n",
    "We therefore conducted a rapid analysis to describe the recording of hepatitis-related activity in primary care in children for consideration by the incident team formed at UKHSA.\n",
    "\n",
    "\n",
    "## Methods\n",
    "\n",
    "Working on behalf of NHS England, we used the OpenSAFELY framework to conduct a retrospective cohort study of hepatitis, gastrointestinal illness and liver function tests across the full pseudonymised patient primary care records held by the EHR provider TPP, covering 40% of general practices in England.\n",
    "\n",
    "Between 1st April 2017 and March 31st 2022, at the beginning of each month, we identified individuals aged &lt;=30 years registered at a GP practice. In these patients, we then identified anyone with a SNOMED CT code recorded indicating hepatitis, GI illness or any of the following liver function tests:  alanine aminotransferase (ALT); aspartate aminotransferase (AST); bilirubin. To allow rapid analysis, codelists for identifying hepatitis and GI illness were pragmatically developed using the SNOMED CT hierarchy; hepatitis was defined as any child code of “Inflammatory disease of liver” (SNOMED CT: 128241005) and GI illness defined as any child code of “Disorder of the digestive system” (SNOMED CT: 53619000). All of the codelists used in this analysis are shown in Table 1 and are openly available on [opencodelist.org](https://www.opencodelists.org/). To investigate any relationship with COVID-19 infection, any patients with a positive COVID-19 test in the 3 months prior were identified.\n",
    "\n",
    "**Table 1. **Codelists used in this study\n",
    "\n",
    "\n",
    "<table>\n",
    "  <tr>\n",
    "   <td><strong>Codelist description</strong>\n",
    "   </td>\n",
    "   <td><strong>Link</strong>\n",
    "   </td>\n",
    "  </tr>\n",
    "  <tr>\n",
    "   <td>Alanine aminotransferase (ALT)\n",
    "   </td>\n",
    "   <td><a href=\"https://www.opencodelists.org/codelist/opensafely/alanine-aminotransferase-alt-tests/2298df3e/\">Link</a>\n",
    "   </td>\n",
    "  </tr>\n",
    "  <tr>\n",
    "   <td>Aspartate aminotransferase (AST)\n",
    "   </td>\n",
    "   <td><a href=\"https://www.opencodelists.org/codelist/user/Louis/aspartate-aminotransferase/30cb0c08/\">Link</a>\n",
    "   </td>\n",
    "  </tr>\n",
    "  <tr>\n",
    "   <td>Bilirubin\n",
    "   </td>\n",
    "   <td><a href=\"https://www.opencodelists.org/codelist/user/Louis/bilirubin-tests/17bb98d3/\">Link</a>\n",
    "   </td>\n",
    "  </tr>\n",
    "  <tr>\n",
    "   <td>Hepatitis\n",
    "   </td>\n",
    "   <td><a href=\"https://www.opencodelists.org/codelist/user/brian-mackenna/inflammatory-disease-of-the-liver/52b972ae/\">Link</a>\n",
    "   </td>\n",
    "  </tr>\n",
    "  <tr>\n",
    "   <td>Gastrointestinal illness\n",
    "   </td>\n",
    "   <td><a href=\"https://www.opencodelists.org/codelist/user/kate-mansfield/disorder-of-digestive-system-all-descendants/189e8759/\">Link</a>\n",
    "   </td>\n",
    "  </tr>\n",
    "</table>\n",
    "\n",
    "\n",
    "For the above indications, we describe the absolute count and rate per 1000 patients by age group. For AST and ALT tests, we identified the number of tests out of range (>500 IU/L), as set out in the WHO working case definition [(4)](#ref4). For bilirubin tests, the number of tests out of range were calculated using the upper reference range attached to the lab result. We also investigate the number of tests out of range by COVID-19 status, as well as the mean test value by age group, to potentially indicate any shift in test result values.\n",
    "\n",
    "\n",
    "## Results\n",
    "\n",
    "The monthly rate of recording of hepatitis diagnostic codes between April 2017 and March 2022 is shown in Figure 1 (top). There was a small decrease in the rate in those aged 21-30 years following the onset of the COVID-19 pandemic in April 2020 but there otherwise was no marked change. The monthly number of diagnostic codes recorded in patients aged 6-10 years, 3 months-5 years and 0-3 months were all &lt;=5, and are consequently redacted from Figure 1. The rate of recording of GI illness codes between April 2017 and March 2022 is shown in Figure 1 (middle). There was a large decrease in the rate following the onset of the COVID-19 pandemic across all age groups which gradually returned to pre-pandemic levels by March 2022. There was no obvious change in the pattern of recorded hepatitis or GI illness since January 2022.\n",
    "\n"
   ]
  },
  {
   "cell_type": "code",
   "execution_count": null,
   "metadata": {},
   "outputs": [],
   "source": [
    "Image(filename=\"../output/monthly/joined/plot_hepatitis_count_age.png\")"
   ]
  },
  {
   "cell_type": "code",
   "execution_count": null,
   "metadata": {},
   "outputs": [],
   "source": [
    "Image(filename=\"../output/monthly/joined/plot_gi_illness_count_age.png\")"
   ]
  },
  {
   "cell_type": "markdown",
   "metadata": {},
   "source": [
    "**Figure 1.** The monthly rate per 1000 patients of recorded codes relating to (top) hepatitis diagnosis and (bottom) GI illness between April 2017 and March 2022 by age group. **Note:** age bands with counts <=5 have been redacted.\n",
    "\n",
    "The rate of recording of liver function tests between April 2017 and March 2022 is shown in Figure 2. As with hepatitis and GI illness diagnoses, a sharp decrease in coding rate was observed in April 2020 for each of the liver function tests observed. Coding of ALT and bilirubin tests returned to pre-pandemic levels by November 2021. The rate of AST tests remain below pre-pandemic levels in those aged 21-30 and 11-20, but have recovered in other age groups. There was a small increase in the rate of ALT and bilirubin tests across all age groups between January 2022 and March 2022."
   ]
  },
  {
   "cell_type": "code",
   "execution_count": null,
   "metadata": {},
   "outputs": [],
   "source": [
    "Image(filename=\"../output/monthly/joined/plot_alt_age_band_months.png\")"
   ]
  },
  {
   "cell_type": "code",
   "execution_count": null,
   "metadata": {},
   "outputs": [],
   "source": [
    "Image(filename=\"../output/monthly/joined/plot_ast_age_band_months.png\")"
   ]
  },
  {
   "cell_type": "code",
   "execution_count": null,
   "metadata": {},
   "outputs": [],
   "source": [
    "Image(filename=\"../output/monthly/joined/plot_bilirubin_age_band_months.png\")"
   ]
  },
  {
   "cell_type": "markdown",
   "metadata": {},
   "source": [
    "**Figure 2.** The monthly rate per 1000 patients of recorded codes relating to (top) ALT tests, (middle) AST tests and (bottom) bilirubin tests between April 2017 and March 2022 by age group. **Note:** age bands with counts <=5 have been redacted."
   ]
  },
  {
   "cell_type": "markdown",
   "metadata": {},
   "source": [
    "There was no evidence of any changes in the number of test values out of range for any of the liver function tests since January 2022. Due to the small counts of test values out of range a breakdown by COVID-19 status is not presented, but no clear difference was observed."
   ]
  },
  {
   "cell_type": "markdown",
   "metadata": {},
   "source": [
    "## Discussion\n",
    "\n",
    "We rapidly provided contextual information on children presenting in general practice for symptoms related to hepatitis. We presented the findings to the incident response team at UKHSA for manual review to inform their response.\n",
    "\n",
    "\n",
    "### Findings in context\n",
    "\n",
    "The changes observed in primary care activity following the onset of the COVID-19 pandemic are reflective of wider changes in primary care activity which we have observed previously [(5)](#ref5). We did not observe any clear indication of changes in primary care activity since January 2022. This may be explained by the severity of the case definition; it is likely that any patients matching the specified case definition present directly in secondary care. Indeed, UKHSA reported a small increase in the number of children aged 1 to 4 years admitted to hospital with a diagnosis code that may represent non-A-E hepatitis in February and March 20222 [(6)](#ref6). Similarly, there is some indication of increased emergency care department attendance with clinical codes related to liver disease in children aged 1 to 4 and to a lesser extent in children aged 5 to 14 years [(6)](#ref6).\n",
    "\n",
    "\n",
    "### Strengths and weaknesses\n",
    "\n",
    "\n",
    "The main strength of this study is the speed and scale of its delivery. This study was rapidly implemented across the full EHR coded data covering 40% of the English population. Such a timely audit would have been challenging prior to the establishment of the OpenSAFELY platform. A limitation of this study is the use of non-specific codelists. Use of the SNOMED CT hierarchy was a practical decision that allowed prompt development of codelists for this analysis in the context of a rapid incident response during a global pandemic, but it likely captured non-specific codes such as hepatitis of known cause, so the results presented should be interpreted accordingly. Improved identification of hepatitis indications can be developed.\n",
    "\n",
    "\n",
    "### Policy implications\n",
    "\n",
    "This study demonstrates that OpenSAFELY can be used for near real time surveillance. The approach taken here can be further developed to allow future responses.\n",
    "\n",
    "\n",
    "## References \n",
    "\n",
    "<a href=\"https://www.who.int/emergencies/disease-outbreak-news/item/2022-DON368\" id=\"ref1\"> 1.\tAcute hepatitis of unknown aetiology – the United Kingdom of Great Britain and Northern Ireland. [cited 2022 Aug 17] </a>\n",
    "\n",
    "<a href=\"https://www.gov.uk/government/news/hepatitis-liver-inflammation-cases-in-children-latest-updates\" id=\"ref2\"> 2.\tHepatitis (liver inflammation) cases in children – latest updates. GOV.UK. [cited 2022 Aug 17].</a>\n",
    "\n",
    "<a href=\"https://www.medrxiv.org/content/10.1101/2021.07.27.21261136v1\" id=\"ref3\">3.\tFisher L, Speed V, Curtis HJ, Rentsch CT, Wong AY, et al. Potentially inappropriate prescribing of DOACs to people with mechanical heart valves: a federated analysis of 57.9 million patients’ primary care records in situ using OpenSAFELY. 2021 Jul [cited 2021 Nov 10] p. 2021.07.27.21261136.\n",
    "\n",
    "<a href=\"https://www.who.int/emergencies/disease-outbreak-news/item/2022-DON376\" id=\"ref4\">4.\tMulti-Country – Acute, severe hepatitis of unknown origin in children. [cited 2022 Aug 17].\n",
    "\n",
    "<a href=\"https://www.medrxiv.org/content/10.1101/2022.06.01.22275674v1\" id=\"ref5\">5.\tOpenSAFELY NHS Service Restoration Observatory 2: changes in primary care activity across six clinical areas during the COVID-19 pandemic | medRxiv. [cited 2022 Aug 18].\n",
    "\n",
    "<a href=\"https://assets.publishing.service.gov.uk/government/uploads/system/uploads/attachment_data/file/1094573/acute-hepatitis-technical-briefing-4.pdf\" id=\"ref6\">6.\tInvestigation into acute hepatitis of unknown aetiology in children in England: technical briefing 4."
   ]
  }
 ],
 "metadata": {
  "kernelspec": {
   "display_name": "OpenSAFELY",
   "language": "python",
   "name": "python3"
  },
  "language_info": {
   "codemirror_mode": {
    "name": "ipython",
    "version": 3
   },
   "file_extension": ".py",
   "mimetype": "text/x-python",
   "name": "python",
   "nbconvert_exporter": "python",
   "pygments_lexer": "ipython3",
   "version": "3.9.6"
  },
  "orig_nbformat": 4
 },
 "nbformat": 4,
 "nbformat_minor": 2
}
